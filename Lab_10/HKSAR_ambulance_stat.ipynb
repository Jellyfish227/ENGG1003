{
 "cells": [
  {
   "cell_type": "markdown",
   "metadata": {
    "pycharm": {
     "name": "#%% md\n"
    }
   },
   "source": [
    "**Digital Literacy and Computational Thinking, CUHK**\n",
    "\n",
    "**Hands-on Python DEMO**\n",
    "\n",
    "Trying on Jupyter Notebook:\n",
    "* Click menu item Cell --> Run All\n",
    "* Click a Code cell to edit\n",
    "* Double-click a Text cell to edit mark-down content, click Run to confirm\n",
    "* Ctrl-Enter to confirm edit and Run the current cell\n",
    "\n",
    "Trying on Google Colab:\n",
    "* Click menu item Run All (Ctrl+F9)\n",
    "* Click a Code cell to edit\n",
    "* Double-click a Text cell to edit mark-down content, press ESC to confirm\n",
    "* Ctrl-Enter to confirm edit and Run the current cell\n"
   ]
  },
  {
   "cell_type": "markdown",
   "metadata": {
    "pycharm": {
     "name": "#%% md\n"
    }
   },
   "source": [
    "**Using online data from HK Fire Services Department**\n",
    "\n",
    "**Ambulance Service Indicators**\n"
   ]
  },
  {
   "cell_type": "code",
   "execution_count": 1,
   "metadata": {
    "pycharm": {
     "name": "#%%\n"
    }
   },
   "outputs": [
    {
     "ename": "ModuleNotFoundError",
     "evalue": "No module named 'requests'",
     "output_type": "error",
     "traceback": [
      "\u001B[0;31m---------------------------------------------------------------------------\u001B[0m",
      "\u001B[0;31mModuleNotFoundError\u001B[0m                       Traceback (most recent call last)",
      "Cell \u001B[0;32mIn [1], line 6\u001B[0m\n\u001B[1;32m      1\u001B[0m \u001B[38;5;66;03m# Using online data from HK Fire Services Department\u001B[39;00m\n\u001B[1;32m      2\u001B[0m \u001B[38;5;66;03m# Ambulance Service Indicators\u001B[39;00m\n\u001B[1;32m      3\u001B[0m \n\u001B[1;32m      4\u001B[0m \u001B[38;5;66;03m# Read Data from CSV using pandas\u001B[39;00m\n\u001B[1;32m      5\u001B[0m \u001B[38;5;28;01mimport\u001B[39;00m \u001B[38;5;21;01mpandas\u001B[39;00m \u001B[38;5;28;01mas\u001B[39;00m \u001B[38;5;21;01mpd\u001B[39;00m\n\u001B[0;32m----> 6\u001B[0m \u001B[38;5;28;01mimport\u001B[39;00m \u001B[38;5;21;01mrequests\u001B[39;00m\n\u001B[1;32m      8\u001B[0m url \u001B[38;5;241m=\u001B[39m \u001B[38;5;124m'\u001B[39m\u001B[38;5;124mhttps://www.chp.gov.hk/files/misc/enhanced_sur_covid_19_eng.csv\u001B[39m\u001B[38;5;124m'\u001B[39m\n\u001B[1;32m     10\u001B[0m header \u001B[38;5;241m=\u001B[39m {\n\u001B[1;32m     11\u001B[0m   \u001B[38;5;124m\"\u001B[39m\u001B[38;5;124mUser-Agent\u001B[39m\u001B[38;5;124m\"\u001B[39m: \u001B[38;5;124m\"\u001B[39m\u001B[38;5;124mMozilla/5.0 (X11; Linux x86_64) AppleWebKit/537.36 (KHTML, like Gecko) Chrome/50.0.2661.75 Safari/537.36\u001B[39m\u001B[38;5;124m\"\u001B[39m,\n\u001B[1;32m     12\u001B[0m   \u001B[38;5;124m\"\u001B[39m\u001B[38;5;124mX-Requested-With\u001B[39m\u001B[38;5;124m\"\u001B[39m: \u001B[38;5;124m\"\u001B[39m\u001B[38;5;124mXMLHttpRequest\u001B[39m\u001B[38;5;124m\"\u001B[39m\n\u001B[1;32m     13\u001B[0m }\n",
      "\u001B[0;31mModuleNotFoundError\u001B[0m: No module named 'requests'"
     ]
    }
   ],
   "source": [
    "# Using online data from HK Fire Services Department\n",
    "# Ambulance Service Indicators\n",
    "\n",
    "# Read Data from CSV using pandas\n",
    "import pandas as pd\n",
    "import requests\n",
    "\n",
    "url = 'https://www.chp.gov.hk/files/misc/enhanced_sur_covid_19_eng.csv'\n",
    "\n",
    "header = {\n",
    "  \"User-Agent\": \"Mozilla/5.0 (X11; Linux x86_64) AppleWebKit/537.36 (KHTML, like Gecko) Chrome/50.0.2661.75 Safari/537.36\",\n",
    "  \"X-Requested-With\": \"XMLHttpRequest\"\n",
    "}\n",
    "\n",
    "r = requests.get(url, headers=header)\n",
    "\n",
    "case = pd.read_csv(r.text)\n",
    "\n",
    "\n",
    "# show the first 3 rows in the data set\n",
    "case.head(3)\n"
   ]
  },
  {
   "cell_type": "code",
   "execution_count": null,
   "metadata": {
    "pycharm": {
     "name": "#%%\n"
    }
   },
   "outputs": [],
   "source": [
    "# show the last 4 rows in the data set\n",
    "case.tail(4)\n"
   ]
  },
  {
   "cell_type": "markdown",
   "metadata": {
    "id": "p6qCOUH2PSE6",
    "pycharm": {
     "name": "#%% md\n"
    }
   },
   "source": [
    "**Statistical Summary**"
   ]
  },
  {
   "cell_type": "code",
   "execution_count": null,
   "metadata": {
    "colab": {
     "base_uri": "https://localhost:8080/",
     "height": 448
    },
    "id": "-HR7S-vqPY3Q",
    "outputId": "19849923-714c-4f31-a4dc-918f59223255",
    "pycharm": {
     "name": "#%%\n"
    }
   },
   "outputs": [],
   "source": [
    "case.describe()\n"
   ]
  },
  {
   "cell_type": "markdown",
   "metadata": {
    "id": "l6JfOtgfPbVv",
    "pycharm": {
     "name": "#%% md\n"
    }
   },
   "source": [
    "**List Available \"keys\"/ Field names**"
   ]
  },
  {
   "cell_type": "code",
   "execution_count": null,
   "metadata": {
    "colab": {
     "base_uri": "https://localhost:8080/"
    },
    "id": "N8bKbE-jPluX",
    "outputId": "d5e40cc6-ddea-4c48-acec-35cc42362886",
    "pycharm": {
     "name": "#%%\n"
    }
   },
   "outputs": [],
   "source": [
    "print(case.keys())\n"
   ]
  },
  {
   "cell_type": "markdown",
   "metadata": {
    "id": "zg_WTiP0Pupo",
    "pycharm": {
     "name": "#%% md\n"
    }
   },
   "source": [
    "**Extract Some Fields/ Columns by keys**"
   ]
  },
  {
   "cell_type": "code",
   "execution_count": null,
   "outputs": [],
   "source": [
    "# Caution: there are two pairs of square brackets!\n",
    "print(case[\n",
    "          [\"Ambulance Service Indicators\", \"no. of emergency calls\"]\n",
    "      ])\n"
   ],
   "metadata": {
    "collapsed": false,
    "pycharm": {
     "name": "#%%\n"
    }
   }
  },
  {
   "cell_type": "code",
   "execution_count": null,
   "metadata": {
    "pycharm": {
     "name": "#%%\n"
    }
   },
   "outputs": [],
   "source": [
    "# another way of extracting fields for study:\n",
    "fields = [\"Ambulance Service Indicators\", \"no. of emergency calls\"]\n",
    "target = case[fields]\n",
    "\n",
    "# show the first 5 records\n",
    "print(target.head())\n",
    "\n",
    "print()\n",
    "print(\"...not showing some rows...\")\n",
    "print()\n",
    "\n",
    "# show the last 3 records\n",
    "print(target.tail(3))"
   ]
  },
  {
   "cell_type": "markdown",
   "metadata": {
    "id": "572va0HEPsLA",
    "pycharm": {
     "name": "#%% md\n"
    }
   },
   "source": [
    "**Find Individual Aggregated Values**"
   ]
  },
  {
   "cell_type": "code",
   "execution_count": null,
   "metadata": {
    "colab": {
     "base_uri": "https://localhost:8080/"
    },
    "id": "4CK9ia7jQZ2A",
    "outputId": "acdecd93-f4b9-457c-b1ee-6b4c7e1dcd4e",
    "pycharm": {
     "name": "#%%\n"
    }
   },
   "outputs": [],
   "source": [
    "print(\"Mean calls per ambulance:\", case[\"calls per ambulance\"].mean())\n",
    "print(\"Median calls per ambulance:\", case[\"calls per ambulance\"].median())\n"
   ]
  },
  {
   "cell_type": "markdown",
   "metadata": {
    "id": "viFUBwNUREdV",
    "pycharm": {
     "name": "#%% md\n"
    }
   },
   "source": [
    "---\n",
    "\n",
    "**Plot a Graph**"
   ]
  },
  {
   "cell_type": "code",
   "execution_count": null,
   "metadata": {
    "colab": {
     "base_uri": "https://localhost:8080/",
     "height": 293
    },
    "id": "O_yfQs9VRC-2",
    "outputId": "63671d46-428d-4c7a-f644-103faa3d1a16",
    "pycharm": {
     "name": "#%%\n"
    }
   },
   "outputs": [],
   "source": [
    "import matplotlib.pyplot as plt\n",
    "\n",
    "plt.figure(figsize=(15, 6))\n",
    "\n",
    "plt.plot(case[\"Ambulance Service Indicators\"],\n",
    "         case[\"no. of emergency calls\"])\n",
    "\n",
    "plt.ylabel(\"no. of emergency calls\")\n",
    "plt.xlabel(\"Month/Year\")\n",
    "\n",
    "plt.ylim( bottom=0 )   # avoid BROKEN y-axis\n",
    "\n",
    "axes = plt.gca() # get current axes\n",
    "plt.setp(axes.get_xticklabels(), rotation=40, horizontalalignment='right', fontsize='medium')\n",
    "plt.grid()\n",
    "plt.show()"
   ]
  },
  {
   "cell_type": "markdown",
   "metadata": {
    "id": "upmQWeDwUx0o",
    "pycharm": {
     "name": "#%% md\n"
    }
   },
   "source": [
    "---\n",
    "\n",
    "**Find Trend by Curve Fitting**"
   ]
  },
  {
   "cell_type": "code",
   "execution_count": null,
   "metadata": {
    "colab": {
     "base_uri": "https://localhost:8080/"
    },
    "id": "7MGR5VP2U2i5",
    "outputId": "5957c859-07fc-47eb-bc53-8cc8a911fa07",
    "pycharm": {
     "name": "#%%\n"
    }
   },
   "outputs": [],
   "source": [
    "from numpy import arange\n",
    "from scipy.optimize import curve_fit\n",
    "\n",
    "# define an objective function\n",
    "# this example is a cubic polynomial\n",
    "# x is a numpy.ndarray, not a scalar; so these are numpy array operators; possible to use numpy.sin(), etc.\n",
    "def objective_function(x, a, b, c, d):\n",
    "    return a * x**3 + b * x**2 + c * x + d\n",
    "\n",
    "y = case[\"no. of emergency calls\"]\n",
    "print(\"Number of data points:\", y.size)\n",
    "\n",
    "x = arange(start=0, stop=y.size, step=1)\n",
    "\n",
    "# documentation shows usage as: popt, _ = curve_fit(objective_function, x, y)\n",
    "(Parameter_OPTimal_values, Parameter_estimated_COVariance_table) = curve_fit(objective_function, x, y)\n",
    "(a, b, c, d) = Parameter_OPTimal_values\n",
    "\n",
    "print('y = %.3fx^3%+.3fx^2%+.3fx%+.3f' % (a, b, c, d))\n",
    "# define a sequence of inputs between the smallest and largest known inputs\n",
    "x_line = arange(min(x), max(x), 1)\n",
    "# calculate the output for the range\n",
    "y_line = objective_function(x_line, a, b, c, d)\n",
    "\n",
    "print()\n",
    "print(\"type(x) is\", type(x))\n",
    "print(\"type(y) is\", type(y))\n",
    "print(\"type(x_line) is\", type(x_line))\n",
    "print(\"type(y_line) is\", type(y_line))\n"
   ]
  },
  {
   "cell_type": "markdown",
   "metadata": {
    "id": "wwLg8xHTcpCm",
    "pycharm": {
     "name": "#%% md\n"
    }
   },
   "source": [
    "**Find Derivative**\n",
    "\n",
    "Find differences between consecutive data points (months)."
   ]
  },
  {
   "cell_type": "code",
   "execution_count": null,
   "metadata": {
    "id": "bi0r5vsnY1ek",
    "pycharm": {
     "name": "#%%\n"
    }
   },
   "outputs": [],
   "source": [
    "from numpy import diff\n",
    "\n",
    "def compute_derivative(x, y):\n",
    "    # Finite difference\n",
    "    # See https://docs.scipy.org/doc/numpy-1.15.0/reference/generated/numpy.diff.html\n",
    "    return (x[:-1], diff(y))\n",
    "\n",
    "(dx, dy) = compute_derivative(x, y)\n",
    "\n",
    "print(\"type(dx) is\", type(dx))\n",
    "print(\"type(dy) is\", type(dy))\n"
   ]
  },
  {
   "cell_type": "markdown",
   "metadata": {
    "id": "4TvL4sK9c66d",
    "pycharm": {
     "name": "#%% md\n"
    }
   },
   "source": [
    "**Plot a Combined Graph with Twin Axes**"
   ]
  },
  {
   "cell_type": "code",
   "execution_count": null,
   "metadata": {
    "colab": {
     "base_uri": "https://localhost:8080/",
     "height": 293
    },
    "id": "TCm0JmnTX3mM",
    "outputId": "3748e625-6ffa-4955-9807-bba4c0795b73",
    "pycharm": {
     "name": "#%%\n"
    }
   },
   "outputs": [],
   "source": [
    "import matplotlib.pyplot as plt\n",
    "\n",
    "plt.figure(figsize=(15, 6))\n",
    "\n",
    "# create a plot with two axes\n",
    "axes1 = plt.gca() # get current axes\n",
    "# Create a new Axes with an invisible x-axis and an independent y-axis positioned opposite to the original one (i.e. at right).\n",
    "axes2 = axes1.twinx()\n",
    "\n",
    "\n",
    "# show original data points\n",
    "axes1.plot(case[\"Ambulance Service Indicators\"],\n",
    "           case[\"no. of emergency calls\"])\n",
    "\n",
    "# allow BROKEN y-axis to magnify details\n",
    "plt.ylim( ) # DO NOT SET bottom=0\n",
    "\n",
    "axes1.set_ylabel(\"no. of emergency calls / Curve fitting\")\n",
    "axes1.set_xlabel(\"Month/Year\")\n",
    "plt.setp(axes1.get_xticklabels(), rotation=40, horizontalalignment='right', fontsize='medium')\n",
    "\n",
    "\n",
    "# create a plot for curve fitting\n",
    "axes1.plot(x_line, y_line, '--', color='red', label='Curve fitting')\n",
    "\n",
    "\n",
    "# create a plot for derivative\n",
    "axes2.plot(dx, dy, '-*', color='green', label='Derivative')\n",
    "axes2.set_ylabel(\"Derivative\", color='green')\n",
    "\n",
    "\n",
    "# tidy up and show the plot\n",
    "plt.grid()\n",
    "plt.show()\n"
   ]
  }
 ],
 "metadata": {
  "colab": {
   "collapsed_sections": [],
   "name": "HKSAR_ambulance_stat.ipynb",
   "provenance": []
  },
  "kernelspec": {
   "display_name": "Python 3.11.0 64-bit",
   "language": "python",
   "name": "python3"
  },
  "language_info": {
   "codemirror_mode": {
    "name": "ipython",
    "version": 3
   },
   "file_extension": ".py",
   "mimetype": "text/x-python",
   "name": "python",
   "nbconvert_exporter": "python",
   "pygments_lexer": "ipython3",
   "version": "3.11.0"
  },
  "vscode": {
   "interpreter": {
    "hash": "5c7b89af1651d0b8571dde13640ecdccf7d5a6204171d6ab33e7c296e100e08a"
   }
  }
 },
 "nbformat": 4,
 "nbformat_minor": 1
}