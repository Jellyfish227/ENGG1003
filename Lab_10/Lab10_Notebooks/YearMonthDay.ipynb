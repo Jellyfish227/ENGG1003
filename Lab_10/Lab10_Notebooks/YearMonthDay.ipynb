{
 "cells": [
  {
   "cell_type": "markdown",
   "id": "b5bc140d",
   "metadata": {},
   "source": [
    "# Year Month Day Functions"
   ]
  },
  {
   "cell_type": "code",
   "execution_count": 1,
   "id": "3301d59e",
   "metadata": {},
   "outputs": [],
   "source": [
    "def is_leap( year:int ):\n",
    "    return year%4==0 and year%100!=0 or year%400==0\n",
    "\n",
    "\n",
    "def month_days( year:int, month:int ):\n",
    "    days_table = [ -1, 31,28,31,30,31,30,31,31,30,31,30,31 ]\n",
    "    days = days_table[month]\n",
    "    if month == 2 and is_leap(year):\n",
    "        days = days + 1\n",
    "    return days\n"
   ]
  },
  {
   "cell_type": "code",
   "execution_count": 2,
   "id": "c106c385",
   "metadata": {},
   "outputs": [
    {
     "name": "stdout",
     "output_type": "stream",
     "text": [
      "Year 1900 is a leap year: False\n",
      "<class 'bool'>\n",
      "<class 'function'>\n",
      "2018 is a leap year: False\n",
      "2019 is a leap year: False\n",
      "2020 is a leap year: True\n",
      "2021 is a leap year: False\n",
      "2022 is a leap year: False\n",
      "2000 is a leap year\n",
      "2008 is a leap year\n"
     ]
    }
   ],
   "source": [
    "print(\"Year 1900 is a leap year:\", is_leap(1900) )\n",
    "print( type( is_leap(2022) ) )\n",
    "print( type( is_leap) )\n",
    "\n",
    "for year in range(2018, 2023):\n",
    "    print(year, \"is a leap year:\", is_leap(year) )\n",
    "\n",
    "for year in [1997, 2000, 2008, 2023, 2047]:\n",
    "    if is_leap(year):\n",
    "        print(year, \"is a leap year\" )\n"
   ]
  },
  {
   "cell_type": "code",
   "execution_count": 3,
   "id": "a9c30c4e",
   "metadata": {},
   "outputs": [
    {
     "name": "stdout",
     "output_type": "stream",
     "text": [
      "2000 Feb has 29 days\n",
      "2000 - 2 has 29 days\n",
      "1999 - 11 has 30 days\n",
      "2047 - 7 has 31 days\n",
      "2008 - 4 has 30 days\n",
      "1942 - 5 has 31 days\n",
      "Total number of days: 151\n"
     ]
    }
   ],
   "source": [
    "print(\"2000 Feb has\", month_days(2000, 2), \"days\")\n",
    "\n",
    "dates = ((2000, 2), (1999, 11), (2047, 7), (2008, 4), (1942, 5))\n",
    "\n",
    "total = 0\n",
    "for (year, month) in dates:\n",
    "    print(year, '-', month, \"has\", month_days(year, month), \"days\")\n",
    "    total += month_days(year, month)\n",
    "\n",
    "print(\"Total number of days:\", total)\n"
   ]
  }
 ],
 "metadata": {
  "kernelspec": {
   "display_name": "Python 3",
   "language": "python",
   "name": "python3"
  },
  "language_info": {
   "codemirror_mode": {
    "name": "ipython",
    "version": 3
   },
   "file_extension": ".py",
   "mimetype": "text/x-python",
   "name": "python",
   "nbconvert_exporter": "python",
   "pygments_lexer": "ipython3",
   "version": "3.8.8"
  }
 },
 "nbformat": 4,
 "nbformat_minor": 5
}
