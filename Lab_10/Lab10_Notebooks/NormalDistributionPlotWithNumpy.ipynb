{
 "cells": [
  {
   "cell_type": "markdown",
   "id": "bc9fd465",
   "metadata": {
    "pycharm": {
     "name": "#%% md\n"
    }
   },
   "source": [
    "# Normal Distribution Plot with Numpy"
   ]
  },
  {
   "cell_type": "code",
   "execution_count": 1,
   "id": "0696476b",
   "metadata": {
    "pycharm": {
     "name": "#%%\n"
    }
   },
   "outputs": [
    {
     "name": "stdout",
     "output_type": "stream",
     "text": [
      "Dimension = 3\n",
      "Shape = (8, 8, 4)\n",
      "[[[  0   1   2   3]\n",
      "  [  4   5   6   7]\n",
      "  [  8   9  10  11]\n",
      "  [ 12  13  14  15]\n",
      "  [ 16  17  18  19]\n",
      "  [ 20  21  22  23]\n",
      "  [ 24  25  26  27]\n",
      "  [ 28  29  30  31]]\n",
      "\n",
      " [[ 32  33  34  35]\n",
      "  [ 36  37  38  39]\n",
      "  [ 40  41  42  43]\n",
      "  [ 44  45  46  47]\n",
      "  [ 48  49  50  51]\n",
      "  [ 52  53  54  55]\n",
      "  [ 56  57  58  59]\n",
      "  [ 60  61  62  63]]\n",
      "\n",
      " [[ 64  65  66  67]\n",
      "  [ 68  69  70  71]\n",
      "  [ 72  73  74  75]\n",
      "  [ 76  77  78  79]\n",
      "  [ 80  81  82  83]\n",
      "  [ 84  85  86  87]\n",
      "  [ 88  89  90  91]\n",
      "  [ 92  93  94  95]]\n",
      "\n",
      " [[ 96  97  98  99]\n",
      "  [100 101 102 103]\n",
      "  [104 105 106 107]\n",
      "  [108 109 110 111]\n",
      "  [112 113 114 115]\n",
      "  [116 117 118 119]\n",
      "  [120 121 122 123]\n",
      "  [124 125 126 127]]\n",
      "\n",
      " [[128 129 130 131]\n",
      "  [132 133 134 135]\n",
      "  [136 137 138 139]\n",
      "  [140 141 142 143]\n",
      "  [144 145 146 147]\n",
      "  [148 149 150 151]\n",
      "  [152 153 154 155]\n",
      "  [156 157 158 159]]\n",
      "\n",
      " [[160 161 162 163]\n",
      "  [164 165 166 167]\n",
      "  [168 169 170 171]\n",
      "  [172 173 174 175]\n",
      "  [176 177 178 179]\n",
      "  [180 181 182 183]\n",
      "  [184 185 186 187]\n",
      "  [188 189 190 191]]\n",
      "\n",
      " [[192 193 194 195]\n",
      "  [196 197 198 199]\n",
      "  [200 201 202 203]\n",
      "  [204 205 206 207]\n",
      "  [208 209 210 211]\n",
      "  [212 213 214 215]\n",
      "  [216 217 218 219]\n",
      "  [220 221 222 223]]\n",
      "\n",
      " [[224 225 226 227]\n",
      "  [228 229 230 231]\n",
      "  [232 233 234 235]\n",
      "  [236 237 238 239]\n",
      "  [240 241 242 243]\n",
      "  [244 245 246 247]\n",
      "  [248 249 250 251]\n",
      "  [252 253 254 255]]]\n",
      "mean diff =  0.0018162227105772792\n",
      "S.D. diff =  0.0006335863255262364\n",
      "<BarContainer object of 50 artists>\n",
      "[-4.35081374 -4.17820921 -4.00560467 -3.83300014 -3.6603956  -3.48779107\n",
      " -3.31518653 -3.142582   -2.96997746 -2.79737293 -2.62476839 -2.45216386\n",
      " -2.27955932 -2.10695479 -1.93435025 -1.76174572 -1.58914118 -1.41653665\n",
      " -1.24393211 -1.07132758 -0.89872304 -0.72611851 -0.55351397 -0.38090944\n",
      " -0.2083049  -0.03570037  0.13690417  0.3095087   0.48211324  0.65471777\n",
      "  0.82732231  0.99992684  1.17253138  1.34513591  1.51774045  1.69034498\n",
      "  1.86294952  2.03555405  2.20815859  2.38076312  2.55336766  2.72597219\n",
      "  2.89857673  3.07118126  3.2437858   3.41639033  3.58899487  3.7615994\n",
      "  3.93420394  4.10680847  4.27941301]\n"
     ]
    },
    {
     "data": {
      "image/png": "[encoded data removed]",
      "text/plain": [
       "<Figure size 432x288 with 1 Axes>"
      ]
     },
     "metadata": {
      "needs_background": "light"
     },
     "output_type": "display_data"
    }
   ],
   "source": [
    "import numpy as np\n",
    "import matplotlib.pyplot as plt\n",
    "\n",
    "# numpy array creation\n",
    "a = np.arange(256).reshape(8,8,4)\n",
    "print(f'Dimension = {a.ndim}')\n",
    "print(f'Shape = {a.shape}')\n",
    "print(a)\n",
    "\n",
    "\n",
    "\n",
    "# numpy random number generation\n",
    "mean, sigma = 0, 1.0\n",
    "s = np.random.default_rng().normal(mean, sigma, 50000)\n",
    "\n",
    "print('mean diff = ', abs(mean - np.mean(s)))\n",
    "print('S.D. diff = ', abs(sigma - np.std(s, ddof=1))) # s.d. of a population\n",
    "\n",
    "# plot a histogram and get key parameters returned\n",
    "nbars = 50\n",
    "n, bins, patches = plt.hist(s, nbars, density=True)\n",
    "print(patches)\n",
    "print(bins)\n",
    "\n",
    "# plot a theoretical curve\n",
    "plt.plot(bins, 1/(sigma * np.sqrt(2 * np.pi)) * np.exp(-1/2 * ((bins - mean)/sigma)**2), linewidth=2, color='r')\n",
    "\n",
    "# show legend with raw-string format-string, it supports LaTeX and avoids escape\n",
    "plt.text(-3, 0.3, rf'$\\mu={mean},\\ \\sigma={sigma}$')\n",
    "plt.text(-3, 0.4, f'mean={mean}, s.d.={sigma}')\n",
    "plt.show()\n",
    "\n"
   ]
  }
 ],
 "metadata": {
  "kernelspec": {
   "display_name": "Python 3",
   "language": "python",
   "name": "python3"
  },
  "language_info": {
   "codemirror_mode": {
    "name": "ipython",
    "version": 3
   },
   "file_extension": ".py",
   "mimetype": "text/x-python",
   "name": "python",
   "nbconvert_exporter": "python",
   "pygments_lexer": "ipython3",
   "version": "3.8.8"
  }
 },
 "nbformat": 4,
 "nbformat_minor": 5
}