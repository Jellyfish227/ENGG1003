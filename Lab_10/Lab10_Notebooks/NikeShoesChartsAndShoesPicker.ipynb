{
 "cells": [
  {
   "cell_type": "markdown",
   "metadata": {},
   "source": [
    "# Nike Shoes Charts"
   ]
  },
  {
   "cell_type": "code",
   "execution_count": 3,
   "metadata": {
    "colab": {
     "base_uri": "https://localhost:8080/"
    },
    "id": "6vwNemaijAGI",
    "outputId": "b706e0a5-7015-468a-c732-97820df42a7d"
   },
   "outputs": [
    {
     "name": "stdout",
     "output_type": "stream",
     "text": [
      "<class 'pandas.core.frame.DataFrame'>\n",
      "RangeIndex: 26 entries, 0 to 25\n",
      "Data columns (total 5 columns):\n",
      " #   Column                  Non-Null Count  Dtype  \n",
      "---  ------                  --------------  -----  \n",
      " 0   HEEL-TO-TOE LENGTH(cm)  26 non-null     float64\n",
      " 1   CM                      26 non-null     float64\n",
      " 2   EU                      26 non-null     float64\n",
      " 3   UK                      26 non-null     float64\n",
      " 4   US                      26 non-null     float64\n",
      "dtypes: float64(5)\n",
      "memory usage: 1.1 KB\n",
      "None\n",
      "<class 'pandas.core.frame.DataFrame'>\n",
      "RangeIndex: 15 entries, 0 to 14\n",
      "Data columns (total 5 columns):\n",
      " #   Column            Non-Null Count  Dtype  \n",
      "---  ------            --------------  -----  \n",
      " 0   FOOT LENGTH (CM)  15 non-null     float64\n",
      " 1   EU                15 non-null     float64\n",
      " 2   CM                15 non-null     float64\n",
      " 3   UK                15 non-null     float64\n",
      " 4   US                15 non-null     float64\n",
      "dtypes: float64(5)\n",
      "memory usage: 728.0 bytes\n",
      "None\n",
      "<class 'pandas.core.frame.DataFrame'>\n",
      "RangeIndex: 15 entries, 0 to 14\n",
      "Data columns (total 5 columns):\n",
      " #   Column             Non-Null Count  Dtype  \n",
      "---  ------             --------------  -----  \n",
      " 0   FOOT LENGTH (in.)  15 non-null     object \n",
      " 1   EU                 15 non-null     float64\n",
      " 2   CM                 15 non-null     float64\n",
      " 3   UK                 15 non-null     float64\n",
      " 4   US                 15 non-null     float64\n",
      "dtypes: float64(4), object(1)\n",
      "memory usage: 728.0+ bytes\n",
      "None\n",
      "              EU         CM         UK         US\n",
      "count  15.000000  15.000000  15.000000  15.000000\n",
      "mean   39.900000  25.500000   6.000000   8.500000\n",
      "std     2.910572   2.236068   2.236068   2.236068\n",
      "min    35.500000  22.000000   2.500000   5.000000\n",
      "25%    37.750000  23.750000   4.250000   6.750000\n",
      "50%    40.000000  25.500000   6.000000   8.500000\n",
      "75%    42.250000  27.250000   7.750000  10.250000\n",
      "max    44.500000  29.000000   9.500000  12.000000\n",
      "  FOOT LENGTH (in.)    EU    CM   UK   US\n",
      "0              85/8  35.5  22.0  2.5  5.0\n",
      "1              87/8  36.0  22.5  3.0  5.5\n",
      "2                 9  36.5  23.0  3.5  6.0\n",
      "3              91/8  37.5  23.5  4.0  6.5\n",
      "4              93/8  38.0  24.0  4.5  7.0\n",
      "FOOT LENGTH (in.)       9\n",
      "EU                   36.5\n",
      "CM                   23.0\n",
      "UK                    3.5\n",
      "US                    6.0\n",
      "Name: 2, dtype: object\n",
      "0     22.0\n",
      "1     22.5\n",
      "2     23.0\n",
      "3     23.5\n",
      "4     24.0\n",
      "5     24.5\n",
      "6     25.0\n",
      "7     25.5\n",
      "8     26.0\n",
      "9     26.5\n",
      "10    27.0\n",
      "11    27.5\n",
      "12    28.0\n",
      "13    28.5\n",
      "14    29.0\n",
      "Name: CM, dtype: float64\n"
     ]
    }
   ],
   "source": [
    "import pandas as pd\n",
    "\n",
    "df_men_shoes_charts = pd.read_html('https://img.nike.com.hk/resources/sizecart/mens-shoe-sizing-chart_en.html')\n",
    "df_men_cm = df_men_shoes_charts[0]\n",
    "df_men_cm.to_csv('men_shoes_chart_cm.csv')\n",
    "print(df_men_cm.info())\n",
    "\n",
    "df_women_shoes_charts = pd.read_html('https://img.nike.com.hk/resources/sizecart/womens-shoe-sizing-chart_en.html')\n",
    "df_women_cm = df_women_shoes_charts[0]\n",
    "df_women_cm.to_csv('women_shoes_chart_cm.csv')\n",
    "print(df_women_cm.info())\n",
    "\n",
    "df_women_inch = df_women_shoes_charts[1]\n",
    "df_women_inch.to_csv('women_shoes_chart.csv')\n",
    "print(df_women_inch.info())\n",
    "print(df_women_inch.describe())\n",
    "print(df_women_inch[0:5])\n",
    "print(df_women_inch.iloc[2,:])\n",
    "print(df_women_inch.iloc[:,2])\n"
   ]
  },
  {
   "cell_type": "markdown",
   "metadata": {
    "id": "_Agnm1GZaL0o"
   },
   "source": [
    "# Shoes Picker - Interact with User\n"
   ]
  },
  {
   "cell_type": "code",
   "execution_count": 8,
   "metadata": {
    "colab": {
     "base_uri": "https://localhost:8080/"
    },
    "id": "JQo8uDrWaNv_",
    "outputId": "5ca576fb-6596-483c-e0f5-24cf519bedfe"
   },
   "outputs": [
    {
     "name": "stdout",
     "output_type": "stream",
     "text": [
      "Male or Female? m\n",
      "Foot Length in cm? 28\n",
      "Hey Man!\n",
      "HEEL-TO-TOE LENGTH(cm)    28.3\n",
      "CM                        29.5\n",
      "EU                        45.5\n",
      "UK                        10.5\n",
      "US                        11.5\n",
      "Name: 16, dtype: float64\n"
     ]
    }
   ],
   "source": [
    "gender = input(\"Male or Female? \")\n",
    "\n",
    "foot_len = float(input(\"Foot Length in cm? \"))\n",
    "\n",
    "if gender.lower() == 'male' or gender[0] == 'm':\n",
    "    print(\"Hey Man!\")\n",
    "    results = df_men_cm[ df_men_cm['HEEL-TO-TOE LENGTH(cm)'] >= foot_len ]\n",
    "else:\n",
    "    print(\"Dear Lady!\")\n",
    "    results = df_women_cm[ df_women_cm['FOOT LENGTH (CM)'] >= foot_len ]\n",
    "\n",
    "if len(results) > 0:\n",
    "    print(results.iloc[0,:])\n",
    "else:\n",
    "    print('Your foot is too big!')\n"
   ]
  }
 ],
 "metadata": {
  "colab": {
   "collapsed_sections": [],
   "name": "Nike_Shoes_Charts.ipynb",
   "provenance": []
  },
  "kernelspec": {
   "display_name": "Python 3",
   "language": "python",
   "name": "python3"
  },
  "language_info": {
   "codemirror_mode": {
    "name": "ipython",
    "version": 3
   },
   "file_extension": ".py",
   "mimetype": "text/x-python",
   "name": "python",
   "nbconvert_exporter": "python",
   "pygments_lexer": "ipython3",
   "version": "3.8.8"
  }
 },
 "nbformat": 4,
 "nbformat_minor": 1
}
