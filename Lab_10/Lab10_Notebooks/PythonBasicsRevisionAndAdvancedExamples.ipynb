{
 "cells": [
  {
   "cell_type": "markdown",
   "metadata": {
    "id": "P_7TZkQAbUjL"
   },
   "source": [
    "# Python Basics Revision"
   ]
  },
  {
   "cell_type": "code",
   "execution_count": 1,
   "metadata": {
    "id": "B9v6Kn268KYA"
   },
   "outputs": [],
   "source": [
    "# variables\n",
    "count = 18\n",
    "name = \"Peter\"\n",
    "x = y = 2"
   ]
  },
  {
   "cell_type": "code",
   "execution_count": 2,
   "metadata": {
    "colab": {
     "base_uri": "https://localhost:8080/"
    },
    "id": "W4jCuy5F86o7",
    "outputId": "67d8b1e6-306e-47eb-e1a8-6ab72fdada8e"
   },
   "outputs": [
    {
     "name": "stdout",
     "output_type": "stream",
     "text": [
      "19\n"
     ]
    }
   ],
   "source": [
    "# expressions\n",
    "count = count + 1\n",
    "print(count)"
   ]
  },
  {
   "cell_type": "code",
   "execution_count": 3,
   "metadata": {
    "colab": {
     "base_uri": "https://localhost:8080/"
    },
    "id": "bJXjfQkm88Te",
    "outputId": "ec0014b6-e837-401b-ae4f-65646a0f88cd"
   },
   "outputs": [
    {
     "name": "stdout",
     "output_type": "stream",
     "text": [
      "4\n"
     ]
    }
   ],
   "source": [
    "sum = x + y\n",
    "print(sum)"
   ]
  },
  {
   "cell_type": "code",
   "execution_count": 4,
   "metadata": {
    "colab": {
     "base_uri": "https://localhost:8080/"
    },
    "id": "Ry4QFXG99FXR",
    "outputId": "11f59588-9c2d-4332-f670-5c487787f809"
   },
   "outputs": [
    {
     "name": "stdout",
     "output_type": "stream",
     "text": [
      "False\n"
     ]
    }
   ],
   "source": [
    "# conditions\n",
    "print(x == y == 9)"
   ]
  },
  {
   "cell_type": "code",
   "execution_count": 5,
   "metadata": {
    "colab": {
     "base_uri": "https://localhost:8080/"
    },
    "id": "OReGCE0J9IX2",
    "outputId": "8cab8a82-bcbb-44e5-ccac-a20f5257c6a0"
   },
   "outputs": [
    {
     "name": "stdout",
     "output_type": "stream",
     "text": [
      "True\n"
     ]
    }
   ],
   "source": [
    "print(-5 < x <= y)"
   ]
  },
  {
   "cell_type": "code",
   "execution_count": 6,
   "metadata": {
    "colab": {
     "base_uri": "https://localhost:8080/"
    },
    "id": "cmpoiGxt9Njg",
    "outputId": "590c8327-af4b-4b1b-8921-4166404776fd"
   },
   "outputs": [
    {
     "name": "stdout",
     "output_type": "stream",
     "text": [
      "Peter 2 2\n"
     ]
    }
   ],
   "source": [
    "# branching\n",
    "if x == y == 2:\n",
    "  print(name, x, y)\n",
    "else:\n",
    "  print(\"x != 2 or y != 2\")"
   ]
  },
  {
   "cell_type": "code",
   "execution_count": 7,
   "metadata": {
    "colab": {
     "base_uri": "https://localhost:8080/"
    },
    "id": "JWEyk-769l0L",
    "outputId": "d9164951-10c7-43f3-9c5c-2000781090f9"
   },
   "outputs": [
    {
     "name": "stdout",
     "output_type": "stream",
     "text": [
      "3 9\n",
      "4 16\n",
      "5 25\n",
      "6 36\n",
      "7 49\n",
      "8 64\n"
     ]
    }
   ],
   "source": [
    "# repetition\n",
    "for i in range(3, 9):\n",
    "  print( i, i*i )"
   ]
  },
  {
   "cell_type": "markdown",
   "metadata": {
    "id": "gtV7C2_5bY67"
   },
   "source": [
    "# Python Advanced Examples"
   ]
  },
  {
   "cell_type": "code",
   "execution_count": 8,
   "metadata": {
    "colab": {
     "base_uri": "https://localhost:8080/"
    },
    "id": "LmbT7YfsCkJI",
    "outputId": "a0df678b-b598-4c13-f336-6f0cdfdb2de4"
   },
   "outputs": [
    {
     "name": "stdout",
     "output_type": "stream",
     "text": [
      "First shuffle:\n",
      "['Diamond Queen', 'Spade King', 'Heart Ace', 'Club Jack']\n",
      "Second shuffle:\n",
      "['Club Jack', 'Diamond Queen', 'Heart Ace', 'Spade King']\n"
     ]
    }
   ],
   "source": [
    "# call function shuffle() example\n",
    "import random\n",
    "cards = [\"Spade King\", \"Heart Ace\", \"Diamond Queen\", \"Club Jack\"]\n",
    "random.shuffle(cards)\n",
    "print(\"First shuffle:\")\n",
    "print(cards)\n",
    "\n",
    "from random import shuffle\n",
    "shuffle(cards)\n",
    "print(\"Second shuffle:\")\n",
    "print(cards)\n"
   ]
  },
  {
   "cell_type": "code",
   "execution_count": 9,
   "metadata": {
    "colab": {
     "base_uri": "https://localhost:8080/"
    },
    "id": "Dw0PK3Lh_DL2",
    "outputId": "77928dde-ba89-4abf-9c52-29dbd6553561"
   },
   "outputs": [
    {
     "name": "stdout",
     "output_type": "stream",
     "text": [
      "First: CUHK\n",
      "['CUHK', 'MU', 'UST', 'MU']\n",
      "CUHK\n",
      "MU\n",
      "UST\n",
      "MU\n",
      "['CUHK', 'MU', 'MU']\n"
     ]
    }
   ],
   "source": [
    "# list examples\n",
    "universities = [\"CUHK\", \"HKU\", \"UST\"]\n",
    "print( \"First:\", universities[0] )\n",
    "universities.append(\"MU\");    # append \"MU\" at the end\n",
    "universities[1] = \"MU\";     # replace \"HKU\" with \"MU\"\n",
    "# the list becomes [ \"CUHK\" , \"MU\" , \"UST\" , \"MU\" ]\n",
    "print( universities )      # print the whole list\n",
    "\n",
    "for item in universities:\n",
    "    print(item)        # print list items, one on a line\n",
    "\n",
    "del universities[2]        # remove \"UST\"\n",
    "print( universities )      # print the whole list\n"
   ]
  },
  {
   "cell_type": "code",
   "execution_count": 10,
   "metadata": {
    "colab": {
     "base_uri": "https://localhost:8080/"
    },
    "id": "YX20sJ7ZBSdD",
    "outputId": "4a79f3ea-5219-4b00-ed1b-f88296cf0586"
   },
   "outputs": [
    {
     "name": "stdout",
     "output_type": "stream",
     "text": [
      "['Apple', 'Orange', 'Banana']\n",
      "['Apple', 'Orange', 'Banana', 'Durian']\n",
      "3rd: Banana\n"
     ]
    }
   ],
   "source": [
    "# list exercise\n",
    "fruits = [\"Apple\", \"Orange\", \"Banana\"]\n",
    "print(fruits)\n",
    "\n",
    "fruits.append(\"Durian\")\n",
    "print(fruits)\n",
    "\n",
    "print(\"3rd:\", fruits[2])  # third element\n"
   ]
  },
  {
   "cell_type": "code",
   "execution_count": 11,
   "metadata": {
    "colab": {
     "base_uri": "https://localhost:8080/"
    },
    "id": "CM_xl937A3_h",
    "outputId": "1ada3660-b3b2-487b-9baf-3cb30247bf91"
   },
   "outputs": [
    {
     "name": "stdout",
     "output_type": "stream",
     "text": [
      "Lucky Draw\n",
      "Original ticket numbers in ascending order:\n",
      "[1, 4, 7, 10, 13, 16, 19, 22, 25, 28, 31, 34, 37, 40, 43, 46, 49, 52, 55, 58, 61, 64, 67, 70, 73, 76, 79, 82, 85, 88, 91, 94, 97]\n",
      "Shuffled ticket numbers in random order:\n",
      "[88, 37, 10, 34, 1, 58, 64, 52, 79, 55, 70, 43, 13, 28, 76, 94, 40, 85, 4, 19, 91, 49, 97, 31, 82, 16, 67, 25, 61, 7, 22, 73, 46]\n"
     ]
    }
   ],
   "source": [
    "print(\"Lucky Draw\")\n",
    "\n",
    "tickets = list( range(1, 100, 3) )  # create a new list\n",
    "print(\"Original ticket numbers in ascending order:\")\n",
    "print(tickets)\n",
    "\n",
    "import random\n",
    "random.shuffle(tickets)\n",
    "print(\"Shuffled ticket numbers in random order:\")\n",
    "print(tickets)\n"
   ]
  },
  {
   "cell_type": "code",
   "execution_count": 12,
   "metadata": {
    "colab": {
     "base_uri": "https://localhost:8080/"
    },
    "id": "aw1T4_qyBBPZ",
    "outputId": "1c369664-05d6-44b5-d4a7-c07b8e22801e"
   },
   "outputs": [
    {
     "name": "stdout",
     "output_type": "stream",
     "text": [
      "(22.3700556, 114.1535941)\n",
      "CSCI\n"
     ]
    }
   ],
   "source": [
    "# tuple examples\n",
    "GPS_location_HK = (22.3700556, 114.1535941)\n",
    "x_y_coordinates = (-3, 7)\n",
    "student_record = (1154987651, \"Peter PAN\", \"CSCI\", 3.97)\n",
    "print( GPS_location_HK )\n",
    "print( student_record[2] )\n"
   ]
  },
  {
   "cell_type": "code",
   "execution_count": 13,
   "metadata": {
    "colab": {
     "base_uri": "https://localhost:8080/"
    },
    "id": "7UTqSRWnBGn-",
    "outputId": "50857f31-8858-45a7-c8c5-a769655fc06b"
   },
   "outputs": [
    {
     "name": "stdout",
     "output_type": "stream",
     "text": [
      "('14 Mar 2022', 'HSBC', 2000, 49.61)\n",
      "Transaction price: HK$ 49.61\n",
      "Transaction amount: HK$ 99220.0\n"
     ]
    }
   ],
   "source": [
    "# tuple exercise: stock transaction\n",
    "stock_transaction = (\"14 Mar 2022\", \"HSBC\", 2000, 49.61)\n",
    "\n",
    "print( stock_transaction )\n",
    "\n",
    "print( \"Transaction price: HK$\", stock_transaction[3] )\n",
    "\n",
    "amount = stock_transaction[2] * stock_transaction[3]\n",
    "\n",
    "print( \"Transaction amount: HK$\", amount)\n"
   ]
  },
  {
   "cell_type": "code",
   "execution_count": 14,
   "metadata": {
    "colab": {
     "base_uri": "https://localhost:8080/"
    },
    "id": "IdHFxOx-BZGo",
    "outputId": "3c6bf817-a889-4020-e5d0-f78f12e2b3f4"
   },
   "outputs": [
    {
     "name": "stdout",
     "output_type": "stream",
     "text": [
      "[('14 Mar 2022', 'HSBC', 2000, 49.61), ('14 Mar 2022', 'A50', 400, 15.52), ('10 Mar 2022', 'HSBC', 4000, 48.36)]\n",
      "Total transaction amount: HK$ 298868.0\n"
     ]
    }
   ],
   "source": [
    "# list and tutple exercise solution 1\n",
    "stock_transactions = [\n",
    "    (\"14 Mar 2022\", \"HSBC\", 2000, 49.61),\n",
    "    (\"14 Mar 2022\", \"A50\", 400, 15.52),\n",
    "    (\"10 Mar 2022\", \"HSBC\", 4000, 48.36)\n",
    "]\n",
    "print( stock_transactions )\n",
    "amount = stock_transactions[0][2] * stock_transactions[0][3] + \t  stock_transactions[1][2] * stock_transactions[1][3] + \t  stock_transactions[2][2] * stock_transactions[2][3]\n",
    "print( \"Total transaction amount: HK$\", amount)\n"
   ]
  },
  {
   "cell_type": "code",
   "execution_count": 15,
   "metadata": {
    "colab": {
     "base_uri": "https://localhost:8080/"
    },
    "id": "1wUID-SPBf4A",
    "outputId": "ce50b95d-80fa-4d4f-8d9f-f58116f6b964"
   },
   "outputs": [
    {
     "name": "stdout",
     "output_type": "stream",
     "text": [
      "[('14 Mar 2022', 'HSBC', 2000, 49.61), ('14 Mar 2022', 'A50', 400, 15.52), ('10 Mar 2022', 'HSBC', 4000, 48.36)]\n",
      "('14 Mar 2022', 'HSBC', 2000, 49.61)\n",
      "('14 Mar 2022', 'A50', 400, 15.52)\n",
      "('10 Mar 2022', 'HSBC', 4000, 48.36)\n",
      "Total transaction amount: HK$ 298868.0\n"
     ]
    }
   ],
   "source": [
    "# list and tutple exercise solution 2\n",
    "stock_transactions = [\n",
    "    (\"14 Mar 2022\", \"HSBC\", 2000, 49.61),\n",
    "    (\"14 Mar 2022\", \"A50\", 400, 15.52),\n",
    "    (\"10 Mar 2022\", \"HSBC\", 4000, 48.36)\n",
    "]\n",
    "print( stock_transactions )\n",
    "amount = 0\n",
    "for transaction in stock_transactions:\n",
    "    print( transaction )\n",
    "    amount += transaction[2] * transaction[3]\n",
    "print( \"Total transaction amount: HK$\", amount)\n"
   ]
  },
  {
   "cell_type": "code",
   "execution_count": 16,
   "metadata": {
    "colab": {
     "base_uri": "https://localhost:8080/"
    },
    "id": "-c6wmntAXD3A",
    "outputId": "f268c0e3-5aa0-4595-a212-f33423241b63"
   },
   "outputs": [
    {
     "name": "stdout",
     "output_type": "stream",
     "text": [
      "I love The Chinese University of Hong Kong!\n"
     ]
    }
   ],
   "source": [
    "cuhk = \"The Chinese University of Hong Kong\"\n",
    "sentence = \"This is a GOOD day\"\n",
    "message = \"I love \" + cuhk + \"!\"\n",
    "print(message)"
   ]
  },
  {
   "cell_type": "code",
   "execution_count": 17,
   "metadata": {
    "colab": {
     "base_uri": "https://localhost:8080/"
    },
    "id": "w70NIZ75EbnJ",
    "outputId": "2452ce96-9c5e-467c-c7d1-bd3469d87740"
   },
   "outputs": [
    {
     "name": "stdout",
     "output_type": "stream",
     "text": [
      "lower: this is a good day\n",
      "upper: THIS IS A GOOD DAY\n",
      "capitalize: This is a good day\n",
      "swapcase: tHIS IS A good DAY\n",
      "Broken into pieces: ['this', 'is', 'a', 'good', 'day']\n",
      "Dictionary look-up word by word:\n",
      "' this ' means pronoun\n",
      "' is ' means verb-to-be\n",
      "' a ' means article\n",
      "' good ' means something pleasant\n",
      "' day ' means 24 hours\n"
     ]
    }
   ],
   "source": [
    "dictionary = {\"this\":\"pronoun\", \"is\":\"verb-to-be\", \"a\":\"article\", \"good\":\"something pleasant\", \"day\":\"24 hours\"}\n",
    "sentence = \"This is a GOOD day\"\n",
    "print(\"lower:\", sentence.lower())\n",
    "print(\"upper:\", sentence.upper())\n",
    "print(\"capitalize:\", sentence.capitalize())\n",
    "print(\"swapcase:\", sentence.swapcase())\n",
    "pieces = sentence.lower().split()\n",
    "print(\"Broken into pieces:\", pieces)\n",
    "print(\"Dictionary look-up word by word:\")\n",
    "for word in pieces:\n",
    "    print(\"'\", word, \"' means\", dictionary[word])\n"
   ]
  },
  {
   "cell_type": "code",
   "execution_count": 18,
   "metadata": {
    "colab": {
     "base_uri": "https://localhost:8080/"
    },
    "id": "VekMJ4Q7uHm6",
    "outputId": "f05f073b-a4b4-4c7e-804d-c0038bffe46d"
   },
   "outputs": [
    {
     "name": "stdout",
     "output_type": "stream",
     "text": [
      "Hi!\n",
      "Hi!\n",
      "Hi!\n",
      "Hi! Peter\n",
      "I'm happy!\n",
      "Hi! Mary\n",
      "I'm happy!\n",
      "1 inch = 2.54 cm\n",
      "5 inches = 12.7 cm\n",
      "3 feet = 0.9144 m\n"
     ]
    }
   ],
   "source": [
    "# define and use functions\n",
    "def sayHi():\n",
    "    print(\"Hi!\")\n",
    "\n",
    "sayHi()\n",
    "sayHi()\n",
    "sayHi()\n",
    "\n",
    "def greet(message:str):\n",
    "    print(\"Hi!\", message)\n",
    "    print(\"I'm happy!\")\n",
    "\n",
    "greet(\"Peter\")\n",
    "greet(\"Mary\")\n",
    "\n",
    "def inch2cm(inch:float):\n",
    "    return inch*2.54\n",
    "\n",
    "print(\"1 inch =\", inch2cm(1), \"cm\")\n",
    "print(\"5 inches =\", inch2cm(5), \"cm\")\n",
    "print(\"3 feet =\", inch2cm(3*12)/100, \"m\")\n"
   ]
  }
 ],
 "metadata": {
  "colab": {
   "collapsed_sections": [],
   "name": "PythonBasicsRevisionAndAdvancedExamples.ipynb",
   "provenance": []
  },
  "kernelspec": {
   "display_name": "Python 3",
   "language": "python",
   "name": "python3"
  },
  "language_info": {
   "codemirror_mode": {
    "name": "ipython",
    "version": 3
   },
   "file_extension": ".py",
   "mimetype": "text/x-python",
   "name": "python",
   "nbconvert_exporter": "python",
   "pygments_lexer": "ipython3",
   "version": "3.8.8"
  }
 },
 "nbformat": 4,
 "nbformat_minor": 1
}
